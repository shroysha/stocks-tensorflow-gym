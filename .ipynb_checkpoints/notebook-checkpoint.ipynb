{
 "cells": [
  {
   "cell_type": "code",
   "execution_count": 1,
   "metadata": {
    "collapsed": true
   },
   "outputs": [
    {
     "name": "stdout",
     "output_type": "stream",
     "text": [
      "       exchange                                 name       date type  \\\n",
      "symbol                                                                 \n",
      "A           SYN            gsinlgehIcAnTcleieo .o nt 2020-04-13   cs   \n",
      "AA          SNY                          p.ColAra co 2020-04-13   cs   \n",
      "AAAU        PES          hioiledhnEPy GFs t tMlrTPac 2020-04-13   et   \n",
      "AACG        ANS  rAC dtoveGSioirbAesp ll DaoT tAaynR 2020-04-13   ad   \n",
      "AADR        PES  TrREeyoshFWhia  rsDSA oA rgeivdrtDs 2020-04-13   et   \n",
      "\n",
      "                       iexId region currency  isEnabled          figi      cik  \n",
      "symbol                                                                          \n",
      "A       IEX_46574843354B2D52     US      USD       True  D2G000BBVC36  1136066  \n",
      "AA      IEX_4238333734532D52     US      USD       True  33DG0BBH3BT0  1709649  \n",
      "AAAU    IEX_474B433136332D52     US      USD       True  0G2PB780BXLX     None  \n",
      "AACG    IEX_44595A4C53392D52     US      USD       True  G6B0PSV03B20     None  \n",
      "AADR    IEX_5253355435362D52     US      USD       True  RB0GYB0BW60D     None  \n"
     ]
    }
   ],
   "source": [
    "import pyEX\n",
    "c = pyEX.Client(\"Tpk_26beda9610f64924923f07dd74fae86b\", version=\"sandbox\")\n",
    "c.symbolsDF().head()\n"
   ]
  }
 ],
 "metadata": {
  "kernelspec": {
   "display_name": "Python 3",
   "language": "python",
   "name": "python3"
  },
  "language_info": {
   "codemirror_mode": {
    "name": "ipython",
    "version": 3
   },
   "file_extension": ".py",
   "mimetype": "text/x-python",
   "name": "python",
   "nbconvert_exporter": "python",
   "pygments_lexer": "ipython3",
   "version": "3.6.10"
  }
 },
 "nbformat": 4,
 "nbformat_minor": 1
}
